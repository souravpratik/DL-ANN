{
 "cells": [
  {
   "cell_type": "code",
   "execution_count": 1,
   "id": "070edf30",
   "metadata": {},
   "outputs": [],
   "source": [
    "import tensorflow"
   ]
  },
  {
   "cell_type": "code",
   "execution_count": 2,
   "id": "42bf86b6",
   "metadata": {},
   "outputs": [
    {
     "name": "stdout",
     "output_type": "stream",
     "text": [
      "2.11.0\n"
     ]
    }
   ],
   "source": [
    "print(tensorflow.__version__)"
   ]
  },
  {
   "cell_type": "code",
   "execution_count": 3,
   "id": "93a0365a",
   "metadata": {},
   "outputs": [],
   "source": [
    "import numpy as np\n",
    "import pandas as pd\n",
    "import matplotlib.pyplot as plt\n"
   ]
  },
  {
   "cell_type": "code",
   "execution_count": 4,
   "id": "7df9e1cc",
   "metadata": {},
   "outputs": [],
   "source": [
    "df=pd.read_csv(\"aps_failure_training_set1.csv\")"
   ]
  },
  {
   "cell_type": "code",
   "execution_count": 5,
   "id": "36a2e1a5",
   "metadata": {},
   "outputs": [
    {
     "data": {
      "text/html": [
       "<div>\n",
       "<style scoped>\n",
       "    .dataframe tbody tr th:only-of-type {\n",
       "        vertical-align: middle;\n",
       "    }\n",
       "\n",
       "    .dataframe tbody tr th {\n",
       "        vertical-align: top;\n",
       "    }\n",
       "\n",
       "    .dataframe thead th {\n",
       "        text-align: right;\n",
       "    }\n",
       "</style>\n",
       "<table border=\"1\" class=\"dataframe\">\n",
       "  <thead>\n",
       "    <tr style=\"text-align: right;\">\n",
       "      <th></th>\n",
       "      <th>class</th>\n",
       "      <th>aa_000</th>\n",
       "      <th>ab_000</th>\n",
       "      <th>ac_000</th>\n",
       "      <th>ad_000</th>\n",
       "      <th>ae_000</th>\n",
       "      <th>af_000</th>\n",
       "      <th>ag_000</th>\n",
       "      <th>ag_001</th>\n",
       "      <th>ag_002</th>\n",
       "      <th>...</th>\n",
       "      <th>ee_002</th>\n",
       "      <th>ee_003</th>\n",
       "      <th>ee_004</th>\n",
       "      <th>ee_005</th>\n",
       "      <th>ee_006</th>\n",
       "      <th>ee_007</th>\n",
       "      <th>ee_008</th>\n",
       "      <th>ee_009</th>\n",
       "      <th>ef_000</th>\n",
       "      <th>eg_000</th>\n",
       "    </tr>\n",
       "  </thead>\n",
       "  <tbody>\n",
       "    <tr>\n",
       "      <th>0</th>\n",
       "      <td>pos</td>\n",
       "      <td>153204</td>\n",
       "      <td>0</td>\n",
       "      <td>182</td>\n",
       "      <td>na</td>\n",
       "      <td>0</td>\n",
       "      <td>0</td>\n",
       "      <td>0</td>\n",
       "      <td>0</td>\n",
       "      <td>0</td>\n",
       "      <td>...</td>\n",
       "      <td>129862</td>\n",
       "      <td>26872</td>\n",
       "      <td>34044</td>\n",
       "      <td>22472</td>\n",
       "      <td>34362</td>\n",
       "      <td>0</td>\n",
       "      <td>0</td>\n",
       "      <td>0</td>\n",
       "      <td>0</td>\n",
       "      <td>0</td>\n",
       "    </tr>\n",
       "    <tr>\n",
       "      <th>1</th>\n",
       "      <td>pos</td>\n",
       "      <td>453236</td>\n",
       "      <td>na</td>\n",
       "      <td>2926</td>\n",
       "      <td>na</td>\n",
       "      <td>0</td>\n",
       "      <td>0</td>\n",
       "      <td>0</td>\n",
       "      <td>0</td>\n",
       "      <td>222</td>\n",
       "      <td>...</td>\n",
       "      <td>7908038</td>\n",
       "      <td>3026002</td>\n",
       "      <td>5025350</td>\n",
       "      <td>2025766</td>\n",
       "      <td>1160638</td>\n",
       "      <td>533834</td>\n",
       "      <td>493800</td>\n",
       "      <td>6914</td>\n",
       "      <td>0</td>\n",
       "      <td>0</td>\n",
       "    </tr>\n",
       "    <tr>\n",
       "      <th>2</th>\n",
       "      <td>pos</td>\n",
       "      <td>72504</td>\n",
       "      <td>na</td>\n",
       "      <td>1594</td>\n",
       "      <td>1052</td>\n",
       "      <td>0</td>\n",
       "      <td>0</td>\n",
       "      <td>0</td>\n",
       "      <td>244</td>\n",
       "      <td>178226</td>\n",
       "      <td>...</td>\n",
       "      <td>1432098</td>\n",
       "      <td>372252</td>\n",
       "      <td>527514</td>\n",
       "      <td>358274</td>\n",
       "      <td>332818</td>\n",
       "      <td>284178</td>\n",
       "      <td>3742</td>\n",
       "      <td>0</td>\n",
       "      <td>0</td>\n",
       "      <td>0</td>\n",
       "    </tr>\n",
       "    <tr>\n",
       "      <th>3</th>\n",
       "      <td>pos</td>\n",
       "      <td>762958</td>\n",
       "      <td>na</td>\n",
       "      <td>na</td>\n",
       "      <td>na</td>\n",
       "      <td>na</td>\n",
       "      <td>na</td>\n",
       "      <td>776</td>\n",
       "      <td>281128</td>\n",
       "      <td>2186308</td>\n",
       "      <td>...</td>\n",
       "      <td>na</td>\n",
       "      <td>na</td>\n",
       "      <td>na</td>\n",
       "      <td>na</td>\n",
       "      <td>na</td>\n",
       "      <td>na</td>\n",
       "      <td>na</td>\n",
       "      <td>na</td>\n",
       "      <td>na</td>\n",
       "      <td>na</td>\n",
       "    </tr>\n",
       "    <tr>\n",
       "      <th>4</th>\n",
       "      <td>pos</td>\n",
       "      <td>695994</td>\n",
       "      <td>na</td>\n",
       "      <td>na</td>\n",
       "      <td>na</td>\n",
       "      <td>na</td>\n",
       "      <td>na</td>\n",
       "      <td>0</td>\n",
       "      <td>0</td>\n",
       "      <td>0</td>\n",
       "      <td>...</td>\n",
       "      <td>1397742</td>\n",
       "      <td>495544</td>\n",
       "      <td>361646</td>\n",
       "      <td>28610</td>\n",
       "      <td>5130</td>\n",
       "      <td>212</td>\n",
       "      <td>0</td>\n",
       "      <td>0</td>\n",
       "      <td>na</td>\n",
       "      <td>na</td>\n",
       "    </tr>\n",
       "    <tr>\n",
       "      <th>...</th>\n",
       "      <td>...</td>\n",
       "      <td>...</td>\n",
       "      <td>...</td>\n",
       "      <td>...</td>\n",
       "      <td>...</td>\n",
       "      <td>...</td>\n",
       "      <td>...</td>\n",
       "      <td>...</td>\n",
       "      <td>...</td>\n",
       "      <td>...</td>\n",
       "      <td>...</td>\n",
       "      <td>...</td>\n",
       "      <td>...</td>\n",
       "      <td>...</td>\n",
       "      <td>...</td>\n",
       "      <td>...</td>\n",
       "      <td>...</td>\n",
       "      <td>...</td>\n",
       "      <td>...</td>\n",
       "      <td>...</td>\n",
       "      <td>...</td>\n",
       "    </tr>\n",
       "    <tr>\n",
       "      <th>36183</th>\n",
       "      <td>neg</td>\n",
       "      <td>153002</td>\n",
       "      <td>na</td>\n",
       "      <td>664</td>\n",
       "      <td>186</td>\n",
       "      <td>0</td>\n",
       "      <td>0</td>\n",
       "      <td>0</td>\n",
       "      <td>0</td>\n",
       "      <td>0</td>\n",
       "      <td>...</td>\n",
       "      <td>998500</td>\n",
       "      <td>566884</td>\n",
       "      <td>1290398</td>\n",
       "      <td>1218244</td>\n",
       "      <td>1019768</td>\n",
       "      <td>717762</td>\n",
       "      <td>898642</td>\n",
       "      <td>28588</td>\n",
       "      <td>0</td>\n",
       "      <td>0</td>\n",
       "    </tr>\n",
       "    <tr>\n",
       "      <th>36184</th>\n",
       "      <td>neg</td>\n",
       "      <td>2286</td>\n",
       "      <td>na</td>\n",
       "      <td>2130706538</td>\n",
       "      <td>224</td>\n",
       "      <td>0</td>\n",
       "      <td>0</td>\n",
       "      <td>0</td>\n",
       "      <td>0</td>\n",
       "      <td>0</td>\n",
       "      <td>...</td>\n",
       "      <td>10578</td>\n",
       "      <td>6760</td>\n",
       "      <td>21126</td>\n",
       "      <td>68424</td>\n",
       "      <td>136</td>\n",
       "      <td>0</td>\n",
       "      <td>0</td>\n",
       "      <td>0</td>\n",
       "      <td>0</td>\n",
       "      <td>0</td>\n",
       "    </tr>\n",
       "    <tr>\n",
       "      <th>36185</th>\n",
       "      <td>neg</td>\n",
       "      <td>112</td>\n",
       "      <td>0</td>\n",
       "      <td>2130706432</td>\n",
       "      <td>18</td>\n",
       "      <td>0</td>\n",
       "      <td>0</td>\n",
       "      <td>0</td>\n",
       "      <td>0</td>\n",
       "      <td>0</td>\n",
       "      <td>...</td>\n",
       "      <td>792</td>\n",
       "      <td>386</td>\n",
       "      <td>452</td>\n",
       "      <td>144</td>\n",
       "      <td>146</td>\n",
       "      <td>2622</td>\n",
       "      <td>0</td>\n",
       "      <td>0</td>\n",
       "      <td>0</td>\n",
       "      <td>0</td>\n",
       "    </tr>\n",
       "    <tr>\n",
       "      <th>36186</th>\n",
       "      <td>neg</td>\n",
       "      <td>80292</td>\n",
       "      <td>na</td>\n",
       "      <td>2130706432</td>\n",
       "      <td>494</td>\n",
       "      <td>0</td>\n",
       "      <td>0</td>\n",
       "      <td>0</td>\n",
       "      <td>0</td>\n",
       "      <td>0</td>\n",
       "      <td>...</td>\n",
       "      <td>699352</td>\n",
       "      <td>222654</td>\n",
       "      <td>347378</td>\n",
       "      <td>225724</td>\n",
       "      <td>194440</td>\n",
       "      <td>165070</td>\n",
       "      <td>802280</td>\n",
       "      <td>388422</td>\n",
       "      <td>0</td>\n",
       "      <td>0</td>\n",
       "    </tr>\n",
       "    <tr>\n",
       "      <th>36187</th>\n",
       "      <td>neg</td>\n",
       "      <td>40222</td>\n",
       "      <td>na</td>\n",
       "      <td>698</td>\n",
       "      <td>628</td>\n",
       "      <td>0</td>\n",
       "      <td>0</td>\n",
       "      <td>0</td>\n",
       "      <td>0</td>\n",
       "      <td>0</td>\n",
       "      <td>...</td>\n",
       "      <td>440066</td>\n",
       "      <td>183200</td>\n",
       "      <td>344546</td>\n",
       "      <td>254068</td>\n",
       "      <td>225148</td>\n",
       "      <td>158304</td>\n",
       "      <td>170384</td>\n",
       "      <td>158</td>\n",
       "      <td>0</td>\n",
       "      <td>0</td>\n",
       "    </tr>\n",
       "  </tbody>\n",
       "</table>\n",
       "<p>36188 rows × 171 columns</p>\n",
       "</div>"
      ],
      "text/plain": [
       "      class  aa_000 ab_000      ac_000 ad_000 ae_000 af_000 ag_000  ag_001  \\\n",
       "0       pos  153204      0         182     na      0      0      0       0   \n",
       "1       pos  453236     na        2926     na      0      0      0       0   \n",
       "2       pos   72504     na        1594   1052      0      0      0     244   \n",
       "3       pos  762958     na          na     na     na     na    776  281128   \n",
       "4       pos  695994     na          na     na     na     na      0       0   \n",
       "...     ...     ...    ...         ...    ...    ...    ...    ...     ...   \n",
       "36183   neg  153002     na         664    186      0      0      0       0   \n",
       "36184   neg    2286     na  2130706538    224      0      0      0       0   \n",
       "36185   neg     112      0  2130706432     18      0      0      0       0   \n",
       "36186   neg   80292     na  2130706432    494      0      0      0       0   \n",
       "36187   neg   40222     na         698    628      0      0      0       0   \n",
       "\n",
       "        ag_002  ...   ee_002   ee_003   ee_004   ee_005   ee_006  ee_007  \\\n",
       "0            0  ...   129862    26872    34044    22472    34362       0   \n",
       "1          222  ...  7908038  3026002  5025350  2025766  1160638  533834   \n",
       "2       178226  ...  1432098   372252   527514   358274   332818  284178   \n",
       "3      2186308  ...       na       na       na       na       na      na   \n",
       "4            0  ...  1397742   495544   361646    28610     5130     212   \n",
       "...        ...  ...      ...      ...      ...      ...      ...     ...   \n",
       "36183        0  ...   998500   566884  1290398  1218244  1019768  717762   \n",
       "36184        0  ...    10578     6760    21126    68424      136       0   \n",
       "36185        0  ...      792      386      452      144      146    2622   \n",
       "36186        0  ...   699352   222654   347378   225724   194440  165070   \n",
       "36187        0  ...   440066   183200   344546   254068   225148  158304   \n",
       "\n",
       "       ee_008  ee_009 ef_000 eg_000  \n",
       "0           0       0      0      0  \n",
       "1      493800    6914      0      0  \n",
       "2        3742       0      0      0  \n",
       "3          na      na     na     na  \n",
       "4           0       0     na     na  \n",
       "...       ...     ...    ...    ...  \n",
       "36183  898642   28588      0      0  \n",
       "36184       0       0      0      0  \n",
       "36185       0       0      0      0  \n",
       "36186  802280  388422      0      0  \n",
       "36187  170384     158      0      0  \n",
       "\n",
       "[36188 rows x 171 columns]"
      ]
     },
     "execution_count": 5,
     "metadata": {},
     "output_type": "execute_result"
    }
   ],
   "source": [
    "df"
   ]
  },
  {
   "cell_type": "code",
   "execution_count": 6,
   "id": "eb7acef6",
   "metadata": {},
   "outputs": [
    {
     "data": {
      "text/plain": [
       "class     0\n",
       "aa_000    0\n",
       "ab_000    0\n",
       "ac_000    0\n",
       "ad_000    0\n",
       "         ..\n",
       "ee_007    0\n",
       "ee_008    0\n",
       "ee_009    0\n",
       "ef_000    0\n",
       "eg_000    0\n",
       "Length: 171, dtype: int64"
      ]
     },
     "execution_count": 6,
     "metadata": {},
     "output_type": "execute_result"
    }
   ],
   "source": [
    "df.isnull().sum()"
   ]
  },
  {
   "cell_type": "code",
   "execution_count": 7,
   "id": "9e151ee3",
   "metadata": {},
   "outputs": [],
   "source": [
    "df=df.replace(\"na\",np.nan)"
   ]
  },
  {
   "cell_type": "code",
   "execution_count": 8,
   "id": "e4ec241d",
   "metadata": {},
   "outputs": [
    {
     "data": {
      "text/plain": [
       "class         0\n",
       "aa_000        0\n",
       "ab_000    27896\n",
       "ac_000     2141\n",
       "ad_000     9200\n",
       "          ...  \n",
       "ee_007      379\n",
       "ee_008      379\n",
       "ee_009      379\n",
       "ef_000     1730\n",
       "eg_000     1729\n",
       "Length: 171, dtype: int64"
      ]
     },
     "execution_count": 8,
     "metadata": {},
     "output_type": "execute_result"
    }
   ],
   "source": [
    "df.isnull().sum()"
   ]
  },
  {
   "cell_type": "code",
   "execution_count": 9,
   "id": "14f08106",
   "metadata": {},
   "outputs": [
    {
     "data": {
      "text/plain": [
       "515662"
      ]
     },
     "execution_count": 9,
     "metadata": {},
     "output_type": "execute_result"
    }
   ],
   "source": [
    "df.isnull().sum().sum()"
   ]
  },
  {
   "cell_type": "code",
   "execution_count": 11,
   "id": "ba7fed8f",
   "metadata": {},
   "outputs": [
    {
     "data": {
      "text/html": [
       "<div>\n",
       "<style scoped>\n",
       "    .dataframe tbody tr th:only-of-type {\n",
       "        vertical-align: middle;\n",
       "    }\n",
       "\n",
       "    .dataframe tbody tr th {\n",
       "        vertical-align: top;\n",
       "    }\n",
       "\n",
       "    .dataframe thead th {\n",
       "        text-align: right;\n",
       "    }\n",
       "</style>\n",
       "<table border=\"1\" class=\"dataframe\">\n",
       "  <thead>\n",
       "    <tr style=\"text-align: right;\">\n",
       "      <th></th>\n",
       "      <th>Null Value Count</th>\n",
       "    </tr>\n",
       "  </thead>\n",
       "  <tbody>\n",
       "    <tr>\n",
       "      <th>br_000</th>\n",
       "      <td>29461</td>\n",
       "    </tr>\n",
       "    <tr>\n",
       "      <th>bq_000</th>\n",
       "      <td>29132</td>\n",
       "    </tr>\n",
       "    <tr>\n",
       "      <th>bp_000</th>\n",
       "      <td>28514</td>\n",
       "    </tr>\n",
       "    <tr>\n",
       "      <th>ab_000</th>\n",
       "      <td>27896</td>\n",
       "    </tr>\n",
       "    <tr>\n",
       "      <th>cr_000</th>\n",
       "      <td>27896</td>\n",
       "    </tr>\n",
       "    <tr>\n",
       "      <th>...</th>\n",
       "      <td>...</td>\n",
       "    </tr>\n",
       "    <tr>\n",
       "      <th>cj_000</th>\n",
       "      <td>203</td>\n",
       "    </tr>\n",
       "    <tr>\n",
       "      <th>ci_000</th>\n",
       "      <td>203</td>\n",
       "    </tr>\n",
       "    <tr>\n",
       "      <th>bt_000</th>\n",
       "      <td>86</td>\n",
       "    </tr>\n",
       "    <tr>\n",
       "      <th>aa_000</th>\n",
       "      <td>0</td>\n",
       "    </tr>\n",
       "    <tr>\n",
       "      <th>class</th>\n",
       "      <td>0</td>\n",
       "    </tr>\n",
       "  </tbody>\n",
       "</table>\n",
       "<p>171 rows × 1 columns</p>\n",
       "</div>"
      ],
      "text/plain": [
       "        Null Value Count\n",
       "br_000             29461\n",
       "bq_000             29132\n",
       "bp_000             28514\n",
       "ab_000             27896\n",
       "cr_000             27896\n",
       "...                  ...\n",
       "cj_000               203\n",
       "ci_000               203\n",
       "bt_000                86\n",
       "aa_000                 0\n",
       "class                  0\n",
       "\n",
       "[171 rows x 1 columns]"
      ]
     },
     "execution_count": 11,
     "metadata": {},
     "output_type": "execute_result"
    }
   ],
   "source": [
    "pd.DataFrame(df.isnull().sum().sort_values(ascending=False)).rename(columns={0:\"Null Value Count\"})"
   ]
  },
  {
   "cell_type": "code",
   "execution_count": 14,
   "id": "3434173c",
   "metadata": {},
   "outputs": [
    {
     "data": {
      "text/plain": [
       "['aa_000',\n",
       " 'ab_000',\n",
       " 'ac_000',\n",
       " 'ad_000',\n",
       " 'ae_000',\n",
       " 'af_000',\n",
       " 'ag_000',\n",
       " 'ag_001',\n",
       " 'ag_002',\n",
       " 'ag_003',\n",
       " 'ag_004',\n",
       " 'ag_005',\n",
       " 'ag_006',\n",
       " 'ag_007',\n",
       " 'ag_008',\n",
       " 'ag_009',\n",
       " 'ah_000',\n",
       " 'ai_000',\n",
       " 'aj_000',\n",
       " 'ak_000',\n",
       " 'al_000',\n",
       " 'am_0',\n",
       " 'an_000',\n",
       " 'ao_000',\n",
       " 'ap_000',\n",
       " 'aq_000',\n",
       " 'ar_000',\n",
       " 'as_000',\n",
       " 'at_000',\n",
       " 'au_000',\n",
       " 'av_000',\n",
       " 'ax_000',\n",
       " 'ay_000',\n",
       " 'ay_001',\n",
       " 'ay_002',\n",
       " 'ay_003',\n",
       " 'ay_004',\n",
       " 'ay_005',\n",
       " 'ay_006',\n",
       " 'ay_007',\n",
       " 'ay_008',\n",
       " 'ay_009',\n",
       " 'az_000',\n",
       " 'az_001',\n",
       " 'az_002',\n",
       " 'az_003',\n",
       " 'az_004',\n",
       " 'az_005',\n",
       " 'az_006',\n",
       " 'az_007',\n",
       " 'az_008',\n",
       " 'az_009',\n",
       " 'ba_000',\n",
       " 'ba_001',\n",
       " 'ba_002',\n",
       " 'ba_003',\n",
       " 'ba_004',\n",
       " 'ba_005',\n",
       " 'ba_006',\n",
       " 'ba_007',\n",
       " 'ba_008',\n",
       " 'ba_009',\n",
       " 'bb_000',\n",
       " 'bc_000',\n",
       " 'bd_000',\n",
       " 'be_000',\n",
       " 'bf_000',\n",
       " 'bg_000',\n",
       " 'bh_000',\n",
       " 'bi_000',\n",
       " 'bj_000',\n",
       " 'bk_000',\n",
       " 'bl_000',\n",
       " 'bm_000',\n",
       " 'bn_000',\n",
       " 'bo_000',\n",
       " 'bp_000',\n",
       " 'bq_000',\n",
       " 'br_000',\n",
       " 'bs_000',\n",
       " 'bt_000',\n",
       " 'bu_000',\n",
       " 'bv_000',\n",
       " 'bx_000',\n",
       " 'by_000',\n",
       " 'bz_000',\n",
       " 'ca_000',\n",
       " 'cb_000',\n",
       " 'cc_000',\n",
       " 'cd_000',\n",
       " 'ce_000',\n",
       " 'cf_000',\n",
       " 'cg_000',\n",
       " 'ch_000',\n",
       " 'ci_000',\n",
       " 'cj_000',\n",
       " 'ck_000',\n",
       " 'cl_000',\n",
       " 'cm_000',\n",
       " 'cn_000',\n",
       " 'cn_001',\n",
       " 'cn_002',\n",
       " 'cn_003',\n",
       " 'cn_004',\n",
       " 'cn_005',\n",
       " 'cn_006',\n",
       " 'cn_007',\n",
       " 'cn_008',\n",
       " 'cn_009',\n",
       " 'co_000',\n",
       " 'cp_000',\n",
       " 'cq_000',\n",
       " 'cr_000',\n",
       " 'cs_000',\n",
       " 'cs_001',\n",
       " 'cs_002',\n",
       " 'cs_003',\n",
       " 'cs_004',\n",
       " 'cs_005',\n",
       " 'cs_006',\n",
       " 'cs_007',\n",
       " 'cs_008',\n",
       " 'cs_009',\n",
       " 'ct_000',\n",
       " 'cu_000',\n",
       " 'cv_000',\n",
       " 'cx_000',\n",
       " 'cy_000',\n",
       " 'cz_000',\n",
       " 'da_000',\n",
       " 'db_000',\n",
       " 'dc_000',\n",
       " 'dd_000',\n",
       " 'de_000',\n",
       " 'df_000',\n",
       " 'dg_000',\n",
       " 'dh_000',\n",
       " 'di_000',\n",
       " 'dj_000',\n",
       " 'dk_000',\n",
       " 'dl_000',\n",
       " 'dm_000',\n",
       " 'dn_000',\n",
       " 'do_000',\n",
       " 'dp_000',\n",
       " 'dq_000',\n",
       " 'dr_000',\n",
       " 'ds_000',\n",
       " 'dt_000',\n",
       " 'du_000',\n",
       " 'dv_000',\n",
       " 'dx_000',\n",
       " 'dy_000',\n",
       " 'dz_000',\n",
       " 'ea_000',\n",
       " 'eb_000',\n",
       " 'ec_00',\n",
       " 'ed_000',\n",
       " 'ee_000',\n",
       " 'ee_001',\n",
       " 'ee_002',\n",
       " 'ee_003',\n",
       " 'ee_004',\n",
       " 'ee_005',\n",
       " 'ee_006',\n",
       " 'ee_007',\n",
       " 'ee_008',\n",
       " 'ee_009',\n",
       " 'ef_000',\n",
       " 'eg_000']"
      ]
     },
     "execution_count": 14,
     "metadata": {},
     "output_type": "execute_result"
    }
   ],
   "source": [
    "[feature for feature in df.columns if feature not in ['class']]"
   ]
  },
  {
   "cell_type": "code",
   "execution_count": 15,
   "id": "0ee7bda5",
   "metadata": {},
   "outputs": [],
   "source": [
    "for feature in [feature for feature in df.columns if feature not in ['class']]:\n",
    "    df[feature]=df[feature].fillna(df[feature].median())"
   ]
  },
  {
   "cell_type": "code",
   "execution_count": 16,
   "id": "0b66b900",
   "metadata": {},
   "outputs": [
    {
     "data": {
      "text/plain": [
       "0"
      ]
     },
     "execution_count": 16,
     "metadata": {},
     "output_type": "execute_result"
    }
   ],
   "source": [
    "df.isnull().sum().sum()"
   ]
  },
  {
   "cell_type": "code",
   "execution_count": 17,
   "id": "d3a9e027",
   "metadata": {},
   "outputs": [
    {
     "data": {
      "text/html": [
       "<div>\n",
       "<style scoped>\n",
       "    .dataframe tbody tr th:only-of-type {\n",
       "        vertical-align: middle;\n",
       "    }\n",
       "\n",
       "    .dataframe tbody tr th {\n",
       "        vertical-align: top;\n",
       "    }\n",
       "\n",
       "    .dataframe thead th {\n",
       "        text-align: right;\n",
       "    }\n",
       "</style>\n",
       "<table border=\"1\" class=\"dataframe\">\n",
       "  <thead>\n",
       "    <tr style=\"text-align: right;\">\n",
       "      <th></th>\n",
       "      <th>class</th>\n",
       "      <th>aa_000</th>\n",
       "      <th>ab_000</th>\n",
       "      <th>ac_000</th>\n",
       "      <th>ad_000</th>\n",
       "      <th>ae_000</th>\n",
       "      <th>af_000</th>\n",
       "      <th>ag_000</th>\n",
       "      <th>ag_001</th>\n",
       "      <th>ag_002</th>\n",
       "      <th>...</th>\n",
       "      <th>ee_002</th>\n",
       "      <th>ee_003</th>\n",
       "      <th>ee_004</th>\n",
       "      <th>ee_005</th>\n",
       "      <th>ee_006</th>\n",
       "      <th>ee_007</th>\n",
       "      <th>ee_008</th>\n",
       "      <th>ee_009</th>\n",
       "      <th>ef_000</th>\n",
       "      <th>eg_000</th>\n",
       "    </tr>\n",
       "  </thead>\n",
       "  <tbody>\n",
       "    <tr>\n",
       "      <th>0</th>\n",
       "      <td>pos</td>\n",
       "      <td>153204</td>\n",
       "      <td>0</td>\n",
       "      <td>182</td>\n",
       "      <td>128.0</td>\n",
       "      <td>0</td>\n",
       "      <td>0</td>\n",
       "      <td>0</td>\n",
       "      <td>0</td>\n",
       "      <td>0</td>\n",
       "      <td>...</td>\n",
       "      <td>129862</td>\n",
       "      <td>26872</td>\n",
       "      <td>34044</td>\n",
       "      <td>22472</td>\n",
       "      <td>34362</td>\n",
       "      <td>0</td>\n",
       "      <td>0</td>\n",
       "      <td>0</td>\n",
       "      <td>0</td>\n",
       "      <td>0</td>\n",
       "    </tr>\n",
       "    <tr>\n",
       "      <th>1</th>\n",
       "      <td>pos</td>\n",
       "      <td>453236</td>\n",
       "      <td>0.0</td>\n",
       "      <td>2926</td>\n",
       "      <td>128.0</td>\n",
       "      <td>0</td>\n",
       "      <td>0</td>\n",
       "      <td>0</td>\n",
       "      <td>0</td>\n",
       "      <td>222</td>\n",
       "      <td>...</td>\n",
       "      <td>7908038</td>\n",
       "      <td>3026002</td>\n",
       "      <td>5025350</td>\n",
       "      <td>2025766</td>\n",
       "      <td>1160638</td>\n",
       "      <td>533834</td>\n",
       "      <td>493800</td>\n",
       "      <td>6914</td>\n",
       "      <td>0</td>\n",
       "      <td>0</td>\n",
       "    </tr>\n",
       "    <tr>\n",
       "      <th>2</th>\n",
       "      <td>pos</td>\n",
       "      <td>72504</td>\n",
       "      <td>0.0</td>\n",
       "      <td>1594</td>\n",
       "      <td>1052</td>\n",
       "      <td>0</td>\n",
       "      <td>0</td>\n",
       "      <td>0</td>\n",
       "      <td>244</td>\n",
       "      <td>178226</td>\n",
       "      <td>...</td>\n",
       "      <td>1432098</td>\n",
       "      <td>372252</td>\n",
       "      <td>527514</td>\n",
       "      <td>358274</td>\n",
       "      <td>332818</td>\n",
       "      <td>284178</td>\n",
       "      <td>3742</td>\n",
       "      <td>0</td>\n",
       "      <td>0</td>\n",
       "      <td>0</td>\n",
       "    </tr>\n",
       "    <tr>\n",
       "      <th>3</th>\n",
       "      <td>pos</td>\n",
       "      <td>762958</td>\n",
       "      <td>0.0</td>\n",
       "      <td>152.0</td>\n",
       "      <td>128.0</td>\n",
       "      <td>0.0</td>\n",
       "      <td>0.0</td>\n",
       "      <td>776</td>\n",
       "      <td>281128</td>\n",
       "      <td>2186308</td>\n",
       "      <td>...</td>\n",
       "      <td>237850.0</td>\n",
       "      <td>113784.0</td>\n",
       "      <td>226356.0</td>\n",
       "      <td>195248.0</td>\n",
       "      <td>95594.0</td>\n",
       "      <td>42966.0</td>\n",
       "      <td>4278.0</td>\n",
       "      <td>0.0</td>\n",
       "      <td>0.0</td>\n",
       "      <td>0.0</td>\n",
       "    </tr>\n",
       "    <tr>\n",
       "      <th>4</th>\n",
       "      <td>pos</td>\n",
       "      <td>695994</td>\n",
       "      <td>0.0</td>\n",
       "      <td>152.0</td>\n",
       "      <td>128.0</td>\n",
       "      <td>0.0</td>\n",
       "      <td>0.0</td>\n",
       "      <td>0</td>\n",
       "      <td>0</td>\n",
       "      <td>0</td>\n",
       "      <td>...</td>\n",
       "      <td>1397742</td>\n",
       "      <td>495544</td>\n",
       "      <td>361646</td>\n",
       "      <td>28610</td>\n",
       "      <td>5130</td>\n",
       "      <td>212</td>\n",
       "      <td>0</td>\n",
       "      <td>0</td>\n",
       "      <td>0.0</td>\n",
       "      <td>0.0</td>\n",
       "    </tr>\n",
       "  </tbody>\n",
       "</table>\n",
       "<p>5 rows × 171 columns</p>\n",
       "</div>"
      ],
      "text/plain": [
       "  class  aa_000 ab_000 ac_000 ad_000 ae_000 af_000 ag_000  ag_001   ag_002  \\\n",
       "0   pos  153204      0    182  128.0      0      0      0       0        0   \n",
       "1   pos  453236    0.0   2926  128.0      0      0      0       0      222   \n",
       "2   pos   72504    0.0   1594   1052      0      0      0     244   178226   \n",
       "3   pos  762958    0.0  152.0  128.0    0.0    0.0    776  281128  2186308   \n",
       "4   pos  695994    0.0  152.0  128.0    0.0    0.0      0       0        0   \n",
       "\n",
       "   ...    ee_002    ee_003    ee_004    ee_005   ee_006   ee_007  ee_008  \\\n",
       "0  ...    129862     26872     34044     22472    34362        0       0   \n",
       "1  ...   7908038   3026002   5025350   2025766  1160638   533834  493800   \n",
       "2  ...   1432098    372252    527514    358274   332818   284178    3742   \n",
       "3  ...  237850.0  113784.0  226356.0  195248.0  95594.0  42966.0  4278.0   \n",
       "4  ...   1397742    495544    361646     28610     5130      212       0   \n",
       "\n",
       "  ee_009 ef_000 eg_000  \n",
       "0      0      0      0  \n",
       "1   6914      0      0  \n",
       "2      0      0      0  \n",
       "3    0.0    0.0    0.0  \n",
       "4      0    0.0    0.0  \n",
       "\n",
       "[5 rows x 171 columns]"
      ]
     },
     "execution_count": 17,
     "metadata": {},
     "output_type": "execute_result"
    }
   ],
   "source": [
    "df.head()"
   ]
  },
  {
   "cell_type": "code",
   "execution_count": 18,
   "id": "dd4c0376",
   "metadata": {},
   "outputs": [],
   "source": [
    "x=df.drop(\"class\",axis=1)"
   ]
  },
  {
   "cell_type": "code",
   "execution_count": 19,
   "id": "93dafcde",
   "metadata": {},
   "outputs": [],
   "source": [
    "y=df[\"class\"]"
   ]
  },
  {
   "cell_type": "code",
   "execution_count": 20,
   "id": "1ac31a37",
   "metadata": {},
   "outputs": [
    {
     "name": "stdout",
     "output_type": "stream",
     "text": [
      "<class 'pandas.core.frame.DataFrame'>\n",
      "RangeIndex: 36188 entries, 0 to 36187\n",
      "Data columns (total 170 columns):\n",
      " #    Column  Non-Null Count  Dtype \n",
      "---   ------  --------------  ----- \n",
      " 0    aa_000  36188 non-null  int64 \n",
      " 1    ab_000  36188 non-null  object\n",
      " 2    ac_000  36188 non-null  object\n",
      " 3    ad_000  36188 non-null  object\n",
      " 4    ae_000  36188 non-null  object\n",
      " 5    af_000  36188 non-null  object\n",
      " 6    ag_000  36188 non-null  object\n",
      " 7    ag_001  36188 non-null  object\n",
      " 8    ag_002  36188 non-null  object\n",
      " 9    ag_003  36188 non-null  object\n",
      " 10   ag_004  36188 non-null  object\n",
      " 11   ag_005  36188 non-null  object\n",
      " 12   ag_006  36188 non-null  object\n",
      " 13   ag_007  36188 non-null  object\n",
      " 14   ag_008  36188 non-null  object\n",
      " 15   ag_009  36188 non-null  object\n",
      " 16   ah_000  36188 non-null  object\n",
      " 17   ai_000  36188 non-null  object\n",
      " 18   aj_000  36188 non-null  object\n",
      " 19   ak_000  36188 non-null  object\n",
      " 20   al_000  36188 non-null  object\n",
      " 21   am_0    36188 non-null  object\n",
      " 22   an_000  36188 non-null  object\n",
      " 23   ao_000  36188 non-null  object\n",
      " 24   ap_000  36188 non-null  object\n",
      " 25   aq_000  36188 non-null  object\n",
      " 26   ar_000  36188 non-null  object\n",
      " 27   as_000  36188 non-null  object\n",
      " 28   at_000  36188 non-null  object\n",
      " 29   au_000  36188 non-null  object\n",
      " 30   av_000  36188 non-null  object\n",
      " 31   ax_000  36188 non-null  object\n",
      " 32   ay_000  36188 non-null  object\n",
      " 33   ay_001  36188 non-null  object\n",
      " 34   ay_002  36188 non-null  object\n",
      " 35   ay_003  36188 non-null  object\n",
      " 36   ay_004  36188 non-null  object\n",
      " 37   ay_005  36188 non-null  object\n",
      " 38   ay_006  36188 non-null  object\n",
      " 39   ay_007  36188 non-null  object\n",
      " 40   ay_008  36188 non-null  object\n",
      " 41   ay_009  36188 non-null  object\n",
      " 42   az_000  36188 non-null  object\n",
      " 43   az_001  36188 non-null  object\n",
      " 44   az_002  36188 non-null  object\n",
      " 45   az_003  36188 non-null  object\n",
      " 46   az_004  36188 non-null  object\n",
      " 47   az_005  36188 non-null  object\n",
      " 48   az_006  36188 non-null  object\n",
      " 49   az_007  36188 non-null  object\n",
      " 50   az_008  36188 non-null  object\n",
      " 51   az_009  36188 non-null  object\n",
      " 52   ba_000  36188 non-null  object\n",
      " 53   ba_001  36188 non-null  object\n",
      " 54   ba_002  36188 non-null  object\n",
      " 55   ba_003  36188 non-null  object\n",
      " 56   ba_004  36188 non-null  object\n",
      " 57   ba_005  36188 non-null  object\n",
      " 58   ba_006  36188 non-null  object\n",
      " 59   ba_007  36188 non-null  object\n",
      " 60   ba_008  36188 non-null  object\n",
      " 61   ba_009  36188 non-null  object\n",
      " 62   bb_000  36188 non-null  object\n",
      " 63   bc_000  36188 non-null  object\n",
      " 64   bd_000  36188 non-null  object\n",
      " 65   be_000  36188 non-null  object\n",
      " 66   bf_000  36188 non-null  object\n",
      " 67   bg_000  36188 non-null  object\n",
      " 68   bh_000  36188 non-null  object\n",
      " 69   bi_000  36188 non-null  object\n",
      " 70   bj_000  36188 non-null  object\n",
      " 71   bk_000  36188 non-null  object\n",
      " 72   bl_000  36188 non-null  object\n",
      " 73   bm_000  36188 non-null  object\n",
      " 74   bn_000  36188 non-null  object\n",
      " 75   bo_000  36188 non-null  object\n",
      " 76   bp_000  36188 non-null  object\n",
      " 77   bq_000  36188 non-null  object\n",
      " 78   br_000  36188 non-null  object\n",
      " 79   bs_000  36188 non-null  object\n",
      " 80   bt_000  36188 non-null  object\n",
      " 81   bu_000  36188 non-null  object\n",
      " 82   bv_000  36188 non-null  object\n",
      " 83   bx_000  36188 non-null  object\n",
      " 84   by_000  36188 non-null  object\n",
      " 85   bz_000  36188 non-null  object\n",
      " 86   ca_000  36188 non-null  object\n",
      " 87   cb_000  36188 non-null  object\n",
      " 88   cc_000  36188 non-null  object\n",
      " 89   cd_000  36188 non-null  object\n",
      " 90   ce_000  36188 non-null  object\n",
      " 91   cf_000  36188 non-null  object\n",
      " 92   cg_000  36188 non-null  object\n",
      " 93   ch_000  36188 non-null  object\n",
      " 94   ci_000  36188 non-null  object\n",
      " 95   cj_000  36188 non-null  object\n",
      " 96   ck_000  36188 non-null  object\n",
      " 97   cl_000  36188 non-null  object\n",
      " 98   cm_000  36188 non-null  object\n",
      " 99   cn_000  36188 non-null  object\n",
      " 100  cn_001  36188 non-null  object\n",
      " 101  cn_002  36188 non-null  object\n",
      " 102  cn_003  36188 non-null  object\n",
      " 103  cn_004  36188 non-null  object\n",
      " 104  cn_005  36188 non-null  object\n",
      " 105  cn_006  36188 non-null  object\n",
      " 106  cn_007  36188 non-null  object\n",
      " 107  cn_008  36188 non-null  object\n",
      " 108  cn_009  36188 non-null  object\n",
      " 109  co_000  36188 non-null  object\n",
      " 110  cp_000  36188 non-null  object\n",
      " 111  cq_000  36188 non-null  object\n",
      " 112  cr_000  36188 non-null  object\n",
      " 113  cs_000  36188 non-null  object\n",
      " 114  cs_001  36188 non-null  object\n",
      " 115  cs_002  36188 non-null  object\n",
      " 116  cs_003  36188 non-null  object\n",
      " 117  cs_004  36188 non-null  object\n",
      " 118  cs_005  36188 non-null  object\n",
      " 119  cs_006  36188 non-null  object\n",
      " 120  cs_007  36188 non-null  object\n",
      " 121  cs_008  36188 non-null  object\n",
      " 122  cs_009  36188 non-null  object\n",
      " 123  ct_000  36188 non-null  object\n",
      " 124  cu_000  36188 non-null  object\n",
      " 125  cv_000  36188 non-null  object\n",
      " 126  cx_000  36188 non-null  object\n",
      " 127  cy_000  36188 non-null  object\n",
      " 128  cz_000  36188 non-null  object\n",
      " 129  da_000  36188 non-null  object\n",
      " 130  db_000  36188 non-null  object\n",
      " 131  dc_000  36188 non-null  object\n",
      " 132  dd_000  36188 non-null  object\n",
      " 133  de_000  36188 non-null  object\n",
      " 134  df_000  36188 non-null  object\n",
      " 135  dg_000  36188 non-null  object\n",
      " 136  dh_000  36188 non-null  object\n",
      " 137  di_000  36188 non-null  object\n",
      " 138  dj_000  36188 non-null  object\n",
      " 139  dk_000  36188 non-null  object\n",
      " 140  dl_000  36188 non-null  object\n",
      " 141  dm_000  36188 non-null  object\n",
      " 142  dn_000  36188 non-null  object\n",
      " 143  do_000  36188 non-null  object\n",
      " 144  dp_000  36188 non-null  object\n",
      " 145  dq_000  36188 non-null  object\n",
      " 146  dr_000  36188 non-null  object\n",
      " 147  ds_000  36188 non-null  object\n",
      " 148  dt_000  36188 non-null  object\n",
      " 149  du_000  36188 non-null  object\n",
      " 150  dv_000  36188 non-null  object\n",
      " 151  dx_000  36188 non-null  object\n",
      " 152  dy_000  36188 non-null  object\n",
      " 153  dz_000  36188 non-null  object\n",
      " 154  ea_000  36188 non-null  object\n",
      " 155  eb_000  36188 non-null  object\n",
      " 156  ec_00   36188 non-null  object\n",
      " 157  ed_000  36188 non-null  object\n",
      " 158  ee_000  36188 non-null  object\n",
      " 159  ee_001  36188 non-null  object\n",
      " 160  ee_002  36188 non-null  object\n",
      " 161  ee_003  36188 non-null  object\n",
      " 162  ee_004  36188 non-null  object\n",
      " 163  ee_005  36188 non-null  object\n",
      " 164  ee_006  36188 non-null  object\n",
      " 165  ee_007  36188 non-null  object\n",
      " 166  ee_008  36188 non-null  object\n",
      " 167  ee_009  36188 non-null  object\n",
      " 168  ef_000  36188 non-null  object\n",
      " 169  eg_000  36188 non-null  object\n",
      "dtypes: int64(1), object(169)\n",
      "memory usage: 46.9+ MB\n"
     ]
    }
   ],
   "source": [
    "x.info(verbose=True,show_counts=True)"
   ]
  },
  {
   "cell_type": "code",
   "execution_count": 21,
   "id": "78bc5ce5",
   "metadata": {},
   "outputs": [],
   "source": [
    "y=pd.get_dummies(y,drop_first=True)"
   ]
  },
  {
   "cell_type": "code",
   "execution_count": 22,
   "id": "445cc380",
   "metadata": {},
   "outputs": [],
   "source": [
    "from sklearn.model_selection import train_test_split\n",
    "x_train,x_test,y_train,y_test = train_test_split(x,y,test_size =0.2, random_state = 0)"
   ]
  },
  {
   "cell_type": "code",
   "execution_count": 23,
   "id": "01213576",
   "metadata": {},
   "outputs": [
    {
     "name": "stdout",
     "output_type": "stream",
     "text": [
      "(28950, 170)\n",
      "(7238, 170)\n",
      "(28950, 1)\n",
      "(7238, 1)\n"
     ]
    }
   ],
   "source": [
    "print(x_train.shape)\n",
    "print(x_test.shape)\n",
    "print(y_train.shape)\n",
    "print(y_test.shape)"
   ]
  },
  {
   "cell_type": "code",
   "execution_count": 25,
   "id": "17f3291a",
   "metadata": {},
   "outputs": [],
   "source": [
    "from sklearn.preprocessing import StandardScaler\n",
    "sc=StandardScaler()"
   ]
  },
  {
   "cell_type": "code",
   "execution_count": 26,
   "id": "8fd55b56",
   "metadata": {},
   "outputs": [],
   "source": [
    "x_train=sc.fit_transform(x_train)\n",
    "x_test=sc.transform(x_test)"
   ]
  },
  {
   "cell_type": "code",
   "execution_count": 27,
   "id": "d16a250e",
   "metadata": {},
   "outputs": [],
   "source": [
    "import tensorflow.keras\n",
    "from tensorflow.keras.models import Sequential\n",
    "from tensorflow.keras.layers import Dense\n",
    "from tensorflow.keras.layers import Dropout"
   ]
  },
  {
   "cell_type": "code",
   "execution_count": 28,
   "id": "56b9714b",
   "metadata": {},
   "outputs": [],
   "source": [
    "classifier=Sequential()"
   ]
  },
  {
   "cell_type": "code",
   "execution_count": 29,
   "id": "10a34ebe",
   "metadata": {},
   "outputs": [],
   "source": [
    "classifier.add(Dense(units=10,kernel_initializer='he_uniform',activation='relu',input_dim =170))\n",
    "classifier.add(Dense(units = 10, kernel_initializer = 'he_uniform',activation='relu'))\n",
    " \n",
    "classifier.add(Dense(units = 1, kernel_initializer = 'glorot_uniform', activation = 'sigmoid'))"
   ]
  },
  {
   "cell_type": "code",
   "execution_count": 30,
   "id": "caad6eb6",
   "metadata": {},
   "outputs": [],
   "source": [
    "classifier.compile(optimizer ='adam',loss='binary_crossentropy',metrics=['accuracy'])"
   ]
  },
  {
   "cell_type": "code",
   "execution_count": 31,
   "id": "564360bf",
   "metadata": {},
   "outputs": [
    {
     "name": "stdout",
     "output_type": "stream",
     "text": [
      "Model: \"sequential\"\n",
      "_________________________________________________________________\n",
      " Layer (type)                Output Shape              Param #   \n",
      "=================================================================\n",
      " dense (Dense)               (None, 10)                1710      \n",
      "                                                                 \n",
      " dense_1 (Dense)             (None, 10)                110       \n",
      "                                                                 \n",
      " dense_2 (Dense)             (None, 1)                 11        \n",
      "                                                                 \n",
      "=================================================================\n",
      "Total params: 1,831\n",
      "Trainable params: 1,831\n",
      "Non-trainable params: 0\n",
      "_________________________________________________________________\n"
     ]
    }
   ],
   "source": [
    "classifier.summary()"
   ]
  },
  {
   "cell_type": "code",
   "execution_count": 32,
   "id": "d923ca8a",
   "metadata": {},
   "outputs": [
    {
     "data": {
      "text/plain": [
       "array([[-0.02990834, -0.11959227, -0.42838894, ..., -0.15849242,\n",
       "        -0.02156816, -0.02239316],\n",
       "       [-0.38331653, -0.11959227, -0.42838878, ..., -0.15820525,\n",
       "        -0.02156816, -0.02239316],\n",
       "       [-0.39920288, -0.11959227, -0.42838892, ..., -0.15849242,\n",
       "        -0.02156816, -0.02239316],\n",
       "       ...,\n",
       "       [ 0.40413421, -0.11959227, -0.42838861, ..., -0.15842063,\n",
       "        -0.02156816, -0.02239316],\n",
       "       [-0.1749179 , -0.11959227, -0.42838831, ...,  0.00297002,\n",
       "        -0.02156816, -0.02239316],\n",
       "       [-0.19501335, -0.11959227, -0.42838831, ..., -0.15849242,\n",
       "        -0.02156816, -0.02239316]])"
      ]
     },
     "execution_count": 32,
     "metadata": {},
     "output_type": "execute_result"
    }
   ],
   "source": [
    "x_train"
   ]
  },
  {
   "cell_type": "code",
   "execution_count": 34,
   "id": "00518107",
   "metadata": {},
   "outputs": [
    {
     "data": {
      "text/plain": [
       "(28950, 170)"
      ]
     },
     "execution_count": 34,
     "metadata": {},
     "output_type": "execute_result"
    }
   ],
   "source": [
    "x_train.shape"
   ]
  },
  {
   "cell_type": "code",
   "execution_count": 35,
   "id": "b78d19ae",
   "metadata": {},
   "outputs": [
    {
     "name": "stdout",
     "output_type": "stream",
     "text": [
      "Epoch 1/30\n",
      "2172/2172 [==============================] - 7s 3ms/step - loss: 0.0890 - accuracy: 0.9765 - val_loss: 0.0457 - val_accuracy: 0.9827\n",
      "Epoch 2/30\n",
      "2172/2172 [==============================] - 6s 3ms/step - loss: 0.0430 - accuracy: 0.9851 - val_loss: 0.0415 - val_accuracy: 0.9855\n",
      "Epoch 3/30\n",
      "2172/2172 [==============================] - 6s 3ms/step - loss: 0.0376 - accuracy: 0.9866 - val_loss: 0.0385 - val_accuracy: 0.9865\n",
      "Epoch 4/30\n",
      "2172/2172 [==============================] - 5s 3ms/step - loss: 0.0337 - accuracy: 0.9877 - val_loss: 0.0373 - val_accuracy: 0.9880\n",
      "Epoch 5/30\n",
      "2172/2172 [==============================] - 6s 3ms/step - loss: 0.0320 - accuracy: 0.9888 - val_loss: 0.0389 - val_accuracy: 0.9878\n",
      "Epoch 6/30\n",
      "2172/2172 [==============================] - 6s 3ms/step - loss: 0.0298 - accuracy: 0.9896 - val_loss: 0.0387 - val_accuracy: 0.9885\n",
      "Epoch 7/30\n",
      "2172/2172 [==============================] - 6s 3ms/step - loss: 0.0283 - accuracy: 0.9899 - val_loss: 0.0397 - val_accuracy: 0.9889\n",
      "Epoch 8/30\n",
      "2172/2172 [==============================] - 6s 3ms/step - loss: 0.0287 - accuracy: 0.9901 - val_loss: 0.0398 - val_accuracy: 0.9884\n",
      "Epoch 9/30\n",
      "2172/2172 [==============================] - 6s 3ms/step - loss: 0.0263 - accuracy: 0.9911 - val_loss: 0.0436 - val_accuracy: 0.9873\n",
      "Epoch 10/30\n",
      "2172/2172 [==============================] - 6s 3ms/step - loss: 0.0260 - accuracy: 0.9908 - val_loss: 0.0523 - val_accuracy: 0.9869\n",
      "Epoch 11/30\n",
      "2172/2172 [==============================] - 6s 3ms/step - loss: 0.0256 - accuracy: 0.9911 - val_loss: 0.0448 - val_accuracy: 0.9892\n",
      "Epoch 12/30\n",
      "2172/2172 [==============================] - 6s 3ms/step - loss: 0.0239 - accuracy: 0.9918 - val_loss: 0.0471 - val_accuracy: 0.9883\n",
      "Epoch 13/30\n",
      "2172/2172 [==============================] - 6s 3ms/step - loss: 0.0244 - accuracy: 0.9919 - val_loss: 0.0426 - val_accuracy: 0.9891\n",
      "Epoch 14/30\n",
      "2172/2172 [==============================] - 6s 3ms/step - loss: 0.0222 - accuracy: 0.9924 - val_loss: 0.0575 - val_accuracy: 0.9887\n",
      "Epoch 15/30\n",
      "2172/2172 [==============================] - 6s 3ms/step - loss: 0.0228 - accuracy: 0.9925 - val_loss: 0.0457 - val_accuracy: 0.9888\n",
      "Epoch 16/30\n",
      "2172/2172 [==============================] - 6s 3ms/step - loss: 0.0218 - accuracy: 0.9930 - val_loss: 0.0536 - val_accuracy: 0.9873\n",
      "Epoch 17/30\n",
      "2172/2172 [==============================] - 6s 3ms/step - loss: 0.0213 - accuracy: 0.9929 - val_loss: 0.0512 - val_accuracy: 0.9888\n",
      "Epoch 18/30\n",
      "2172/2172 [==============================] - 7s 3ms/step - loss: 0.0217 - accuracy: 0.9925 - val_loss: 0.0494 - val_accuracy: 0.9881\n",
      "Epoch 19/30\n",
      "2172/2172 [==============================] - 6s 3ms/step - loss: 0.0214 - accuracy: 0.9929 - val_loss: 0.0506 - val_accuracy: 0.9889\n",
      "Epoch 20/30\n",
      "2172/2172 [==============================] - 6s 3ms/step - loss: 0.0197 - accuracy: 0.9935 - val_loss: 0.0557 - val_accuracy: 0.9888\n",
      "Epoch 21/30\n",
      "2172/2172 [==============================] - 6s 3ms/step - loss: 0.0202 - accuracy: 0.9928 - val_loss: 0.0572 - val_accuracy: 0.9888\n",
      "Epoch 22/30\n",
      "2172/2172 [==============================] - 6s 3ms/step - loss: 0.0196 - accuracy: 0.9931 - val_loss: 0.0548 - val_accuracy: 0.9888\n",
      "Epoch 23/30\n",
      "2172/2172 [==============================] - 6s 3ms/step - loss: 0.0183 - accuracy: 0.9938 - val_loss: 0.0601 - val_accuracy: 0.9887\n",
      "Epoch 24/30\n",
      "2172/2172 [==============================] - 6s 3ms/step - loss: 0.0191 - accuracy: 0.9935 - val_loss: 0.0661 - val_accuracy: 0.9872\n",
      "Epoch 25/30\n",
      "2172/2172 [==============================] - 6s 3ms/step - loss: 0.0184 - accuracy: 0.9934 - val_loss: 0.0667 - val_accuracy: 0.9881\n",
      "Epoch 26/30\n",
      "2172/2172 [==============================] - 6s 3ms/step - loss: 0.0176 - accuracy: 0.9940 - val_loss: 0.0661 - val_accuracy: 0.9872\n",
      "Epoch 27/30\n",
      "2172/2172 [==============================] - 6s 3ms/step - loss: 0.0174 - accuracy: 0.9942 - val_loss: 0.0713 - val_accuracy: 0.9874\n",
      "Epoch 28/30\n",
      "2172/2172 [==============================] - 6s 3ms/step - loss: 0.0168 - accuracy: 0.9941 - val_loss: 0.0716 - val_accuracy: 0.9877\n",
      "Epoch 29/30\n",
      "2172/2172 [==============================] - 6s 3ms/step - loss: 0.0173 - accuracy: 0.9939 - val_loss: 0.0717 - val_accuracy: 0.9887\n",
      "Epoch 30/30\n",
      "2172/2172 [==============================] - 6s 3ms/step - loss: 0.0161 - accuracy: 0.9941 - val_loss: 0.0706 - val_accuracy: 0.9883\n"
     ]
    }
   ],
   "source": [
    "model_history=classifier.fit(x_train,y_train,batch_size=10,epochs=30,validation_split=0.25)"
   ]
  },
  {
   "cell_type": "code",
   "execution_count": 36,
   "id": "05e8857e",
   "metadata": {},
   "outputs": [
    {
     "data": {
      "text/plain": [
       "dict_keys(['loss', 'accuracy', 'val_loss', 'val_accuracy'])"
      ]
     },
     "execution_count": 36,
     "metadata": {},
     "output_type": "execute_result"
    }
   ],
   "source": [
    "model_history.history.keys()"
   ]
  },
  {
   "cell_type": "code",
   "execution_count": 37,
   "id": "01c41ede",
   "metadata": {},
   "outputs": [
    {
     "data": {
      "text/plain": [
       "[0.9764646291732788,\n",
       " 0.9851234555244446,\n",
       " 0.9865972995758057,\n",
       " 0.9877486824989319,\n",
       " 0.9887619614601135,\n",
       " 0.9896370768547058,\n",
       " 0.9898673295974731,\n",
       " 0.9900515675544739,\n",
       " 0.9911109209060669,\n",
       " 0.9908345341682434,\n",
       " 0.9910648465156555,\n",
       " 0.9918017983436584,\n",
       " 0.9919399619102478,\n",
       " 0.9923544526100159,\n",
       " 0.9924926161766052,\n",
       " 0.9930453300476074,\n",
       " 0.9929071664810181,\n",
       " 0.9925386905670166,\n",
       " 0.9929071664810181,\n",
       " 0.9934598207473755,\n",
       " 0.9927690029144287,\n",
       " 0.9930914044380188,\n",
       " 0.993828296661377,\n",
       " 0.9935058951377869,\n",
       " 0.9934138059616089,\n",
       " 0.9940125346183777,\n",
       " 0.994242787361145,\n",
       " 0.9941046237945557,\n",
       " 0.9939203858375549,\n",
       " 0.9940586090087891]"
      ]
     },
     "execution_count": 37,
     "metadata": {},
     "output_type": "execute_result"
    }
   ],
   "source": [
    "model_history.history['accuracy']"
   ]
  },
  {
   "cell_type": "code",
   "execution_count": 38,
   "id": "c0529dec",
   "metadata": {},
   "outputs": [
    {
     "name": "stdout",
     "output_type": "stream",
     "text": [
      "dict_keys(['loss', 'accuracy', 'val_loss', 'val_accuracy'])\n"
     ]
    }
   ],
   "source": [
    "print(model_history.history.keys())\n"
   ]
  },
  {
   "cell_type": "code",
   "execution_count": 39,
   "id": "ce587af2",
   "metadata": {},
   "outputs": [
    {
     "data": {
      "image/png": "[encoded data removed]",
      "text/plain": [
       "<Figure size 432x288 with 1 Axes>"
      ]
     },
     "metadata": {
      "needs_background": "light"
     },
     "output_type": "display_data"
    }
   ],
   "source": [
    "plt.plot(model_history.history['accuracy'])\n",
    "plt.plot(model_history.history['val_accuracy'])\n",
    "plt.title('model accuracy')\n",
    "plt.ylabel('accuracy')\n",
    "plt.xlabel('epoch')\n",
    "plt.legend(['train','test'],loc='upper left')\n",
    "plt.show()"
   ]
  },
  {
   "cell_type": "code",
   "execution_count": 40,
   "id": "2658ee6c",
   "metadata": {},
   "outputs": [
    {
     "data": {
      "image/png": "[encoded data removed]",
      "text/plain": [
       "<Figure size 432x288 with 1 Axes>"
      ]
     },
     "metadata": {
      "needs_background": "light"
     },
     "output_type": "display_data"
    }
   ],
   "source": [
    "plt.plot(model_history.history['loss'])\n",
    "plt.plot(model_history.history['val_loss'])\n",
    "plt.title('model accuracy')\n",
    "plt.ylabel('loss')\n",
    "plt.xlabel('epoch')\n",
    "plt.legend(['train', 'test'], loc='upper left')\n",
    "plt.show()"
   ]
  },
  {
   "cell_type": "code",
   "execution_count": 41,
   "id": "0e371e4d",
   "metadata": {},
   "outputs": [
    {
     "data": {
      "text/plain": [
       "(7238, 170)"
      ]
     },
     "execution_count": 41,
     "metadata": {},
     "output_type": "execute_result"
    }
   ],
   "source": [
    "x_test.shape"
   ]
  },
  {
   "cell_type": "code",
   "execution_count": 42,
   "id": "58a8aa85",
   "metadata": {},
   "outputs": [
    {
     "name": "stdout",
     "output_type": "stream",
     "text": [
      "227/227 [==============================] - 0s 2ms/step\n"
     ]
    }
   ],
   "source": [
    "y_pred=classifier.predict(x_test)"
   ]
  },
  {
   "cell_type": "code",
   "execution_count": 43,
   "id": "b77886a4",
   "metadata": {},
   "outputs": [],
   "source": [
    "y_pred=y_pred>0.5"
   ]
  },
  {
   "cell_type": "code",
   "execution_count": 44,
   "id": "aa312efe",
   "metadata": {},
   "outputs": [],
   "source": [
    "from sklearn.metrics import confusion_matrix"
   ]
  },
  {
   "cell_type": "code",
   "execution_count": 45,
   "id": "50e11b03",
   "metadata": {},
   "outputs": [
    {
     "data": {
      "text/plain": [
       "(7238, 1)"
      ]
     },
     "execution_count": 45,
     "metadata": {},
     "output_type": "execute_result"
    }
   ],
   "source": [
    "y_test.shape"
   ]
  },
  {
   "cell_type": "code",
   "execution_count": 46,
   "id": "4f43afaa",
   "metadata": {},
   "outputs": [
    {
     "data": {
      "text/plain": [
       "(7238, 1)"
      ]
     },
     "execution_count": 46,
     "metadata": {},
     "output_type": "execute_result"
    }
   ],
   "source": [
    "y_pred.shape"
   ]
  },
  {
   "cell_type": "code",
   "execution_count": 47,
   "id": "55f6cdd7",
   "metadata": {},
   "outputs": [
    {
     "data": {
      "text/plain": [
       "array([[7034,   24],\n",
       "       [  49,  131]], dtype=int64)"
      ]
     },
     "execution_count": 47,
     "metadata": {},
     "output_type": "execute_result"
    }
   ],
   "source": [
    "confusion_matrix(y_test,y_pred)"
   ]
  },
  {
   "cell_type": "code",
   "execution_count": 48,
   "id": "f814f7ee",
   "metadata": {},
   "outputs": [],
   "source": [
    "import time\n",
    "import os\n",
    "\n",
    "def saveModel_path(model_dir=\"SAVED_MODELS\"):\n",
    "    os.makedirs(model_dir, exist_ok=True)\n",
    "    fileName = time.strftime(\"Model_%Y_%m_%d_%H_%M_%S_.h5\")    \n",
    "    model_path = os.path.join(model_dir, fileName)\n",
    "    print(f\"your model will be saved at the following location\\n{model_path}\")\n",
    "    return model_path"
   ]
  },
  {
   "cell_type": "code",
   "execution_count": 49,
   "id": "856cb39a",
   "metadata": {},
   "outputs": [
    {
     "name": "stdout",
     "output_type": "stream",
     "text": [
      "your model will be saved at the following location\n",
      "SAVED_MODELS\\Model_2023_01_23_20_17_53_.h5\n"
     ]
    }
   ],
   "source": [
    "classifier.save(saveModel_path())"
   ]
  },
  {
   "cell_type": "code",
   "execution_count": 50,
   "id": "2fad5981",
   "metadata": {},
   "outputs": [
    {
     "name": "stdout",
     "output_type": "stream",
     "text": [
      "Collecting keras-tuner\n",
      "  Downloading keras_tuner-1.1.3-py3-none-any.whl (135 kB)\n",
      "     -------------------------------------- 135.7/135.7 kB 4.0 MB/s eta 0:00:00\n",
      "Collecting kt-legacy\n",
      "  Downloading kt_legacy-1.0.4-py3-none-any.whl (9.6 kB)\n",
      "Requirement already satisfied: requests in c:\\users\\sourav arya\\anaconda3\\lib\\site-packages (from keras-tuner) (2.26.0)\n",
      "Requirement already satisfied: numpy in c:\\users\\sourav arya\\anaconda3\\lib\\site-packages (from keras-tuner) (1.20.3)\n",
      "Requirement already satisfied: tensorboard in c:\\users\\sourav arya\\anaconda3\\lib\\site-packages (from keras-tuner) (2.11.2)\n",
      "Requirement already satisfied: packaging in c:\\users\\sourav arya\\anaconda3\\lib\\site-packages (from keras-tuner) (21.3)\n",
      "Requirement already satisfied: ipython in c:\\users\\sourav arya\\anaconda3\\lib\\site-packages (from keras-tuner) (7.29.0)\n",
      "Requirement already satisfied: colorama in c:\\users\\sourav arya\\anaconda3\\lib\\site-packages (from ipython->keras-tuner) (0.4.4)\n",
      "Requirement already satisfied: jedi>=0.16 in c:\\users\\sourav arya\\anaconda3\\lib\\site-packages (from ipython->keras-tuner) (0.18.0)\n",
      "Requirement already satisfied: pickleshare in c:\\users\\sourav arya\\anaconda3\\lib\\site-packages (from ipython->keras-tuner) (0.7.5)\n",
      "Requirement already satisfied: backcall in c:\\users\\sourav arya\\anaconda3\\lib\\site-packages (from ipython->keras-tuner) (0.2.0)\n",
      "Requirement already satisfied: pygments in c:\\users\\sourav arya\\anaconda3\\lib\\site-packages (from ipython->keras-tuner) (2.10.0)\n",
      "Requirement already satisfied: traitlets>=4.2 in c:\\users\\sourav arya\\anaconda3\\lib\\site-packages (from ipython->keras-tuner) (5.1.0)\n",
      "Requirement already satisfied: decorator in c:\\users\\sourav arya\\anaconda3\\lib\\site-packages (from ipython->keras-tuner) (5.1.0)\n",
      "Requirement already satisfied: setuptools>=18.5 in c:\\users\\sourav arya\\anaconda3\\lib\\site-packages (from ipython->keras-tuner) (58.0.4)\n",
      "Requirement already satisfied: prompt-toolkit!=3.0.0,!=3.0.1,<3.1.0,>=2.0.0 in c:\\users\\sourav arya\\anaconda3\\lib\\site-packages (from ipython->keras-tuner) (3.0.20)\n",
      "Requirement already satisfied: matplotlib-inline in c:\\users\\sourav arya\\anaconda3\\lib\\site-packages (from ipython->keras-tuner) (0.1.2)\n",
      "Requirement already satisfied: pyparsing!=3.0.5,>=2.0.2 in c:\\users\\sourav arya\\anaconda3\\lib\\site-packages (from packaging->keras-tuner) (3.0.4)\n",
      "Requirement already satisfied: urllib3<1.27,>=1.21.1 in c:\\users\\sourav arya\\anaconda3\\lib\\site-packages (from requests->keras-tuner) (1.26.7)\n",
      "Requirement already satisfied: idna<4,>=2.5 in c:\\users\\sourav arya\\anaconda3\\lib\\site-packages (from requests->keras-tuner) (3.2)\n",
      "Requirement already satisfied: charset-normalizer~=2.0.0 in c:\\users\\sourav arya\\anaconda3\\lib\\site-packages (from requests->keras-tuner) (2.0.4)\n",
      "Requirement already satisfied: certifi>=2017.4.17 in c:\\users\\sourav arya\\anaconda3\\lib\\site-packages (from requests->keras-tuner) (2021.10.8)\n",
      "Requirement already satisfied: google-auth-oauthlib<0.5,>=0.4.1 in c:\\users\\sourav arya\\anaconda3\\lib\\site-packages (from tensorboard->keras-tuner) (0.4.6)\n",
      "Requirement already satisfied: markdown>=2.6.8 in c:\\users\\sourav arya\\anaconda3\\lib\\site-packages (from tensorboard->keras-tuner) (3.4.1)\n",
      "Requirement already satisfied: absl-py>=0.4 in c:\\users\\sourav arya\\anaconda3\\lib\\site-packages (from tensorboard->keras-tuner) (1.4.0)\n",
      "Requirement already satisfied: protobuf<4,>=3.9.2 in c:\\users\\sourav arya\\anaconda3\\lib\\site-packages (from tensorboard->keras-tuner) (3.19.6)\n",
      "Requirement already satisfied: google-auth<3,>=1.6.3 in c:\\users\\sourav arya\\anaconda3\\lib\\site-packages (from tensorboard->keras-tuner) (2.16.0)\n",
      "Requirement already satisfied: werkzeug>=1.0.1 in c:\\users\\sourav arya\\anaconda3\\lib\\site-packages (from tensorboard->keras-tuner) (2.0.2)\n",
      "Requirement already satisfied: grpcio>=1.24.3 in c:\\users\\sourav arya\\anaconda3\\lib\\site-packages (from tensorboard->keras-tuner) (1.51.1)\n",
      "Requirement already satisfied: tensorboard-data-server<0.7.0,>=0.6.0 in c:\\users\\sourav arya\\anaconda3\\lib\\site-packages (from tensorboard->keras-tuner) (0.6.1)\n",
      "Requirement already satisfied: wheel>=0.26 in c:\\users\\sourav arya\\anaconda3\\lib\\site-packages (from tensorboard->keras-tuner) (0.37.0)\n",
      "Requirement already satisfied: tensorboard-plugin-wit>=1.6.0 in c:\\users\\sourav arya\\anaconda3\\lib\\site-packages (from tensorboard->keras-tuner) (1.8.1)\n",
      "Requirement already satisfied: pyasn1-modules>=0.2.1 in c:\\users\\sourav arya\\anaconda3\\lib\\site-packages (from google-auth<3,>=1.6.3->tensorboard->keras-tuner) (0.2.8)\n",
      "Requirement already satisfied: six>=1.9.0 in c:\\users\\sourav arya\\anaconda3\\lib\\site-packages (from google-auth<3,>=1.6.3->tensorboard->keras-tuner) (1.16.0)\n",
      "Requirement already satisfied: rsa<5,>=3.1.4 in c:\\users\\sourav arya\\anaconda3\\lib\\site-packages (from google-auth<3,>=1.6.3->tensorboard->keras-tuner) (4.9)\n",
      "Requirement already satisfied: cachetools<6.0,>=2.0.0 in c:\\users\\sourav arya\\anaconda3\\lib\\site-packages (from google-auth<3,>=1.6.3->tensorboard->keras-tuner) (5.3.0)\n",
      "Requirement already satisfied: requests-oauthlib>=0.7.0 in c:\\users\\sourav arya\\anaconda3\\lib\\site-packages (from google-auth-oauthlib<0.5,>=0.4.1->tensorboard->keras-tuner) (1.3.1)\n",
      "Requirement already satisfied: parso<0.9.0,>=0.8.0 in c:\\users\\sourav arya\\anaconda3\\lib\\site-packages (from jedi>=0.16->ipython->keras-tuner) (0.8.2)\n",
      "Requirement already satisfied: importlib-metadata>=4.4 in c:\\users\\sourav arya\\anaconda3\\lib\\site-packages (from markdown>=2.6.8->tensorboard->keras-tuner) (4.8.1)\n",
      "Requirement already satisfied: wcwidth in c:\\users\\sourav arya\\anaconda3\\lib\\site-packages (from prompt-toolkit!=3.0.0,!=3.0.1,<3.1.0,>=2.0.0->ipython->keras-tuner) (0.2.5)\n",
      "Requirement already satisfied: zipp>=0.5 in c:\\users\\sourav arya\\anaconda3\\lib\\site-packages (from importlib-metadata>=4.4->markdown>=2.6.8->tensorboard->keras-tuner) (3.6.0)\n",
      "Requirement already satisfied: pyasn1<0.5.0,>=0.4.6 in c:\\users\\sourav arya\\anaconda3\\lib\\site-packages (from pyasn1-modules>=0.2.1->google-auth<3,>=1.6.3->tensorboard->keras-tuner) (0.4.8)\n",
      "Requirement already satisfied: oauthlib>=3.0.0 in c:\\users\\sourav arya\\anaconda3\\lib\\site-packages (from requests-oauthlib>=0.7.0->google-auth-oauthlib<0.5,>=0.4.1->tensorboard->keras-tuner) (3.2.2)\n",
      "Installing collected packages: kt-legacy, keras-tuner\n",
      "Successfully installed keras-tuner-1.1.3 kt-legacy-1.0.4\n"
     ]
    }
   ],
   "source": [
    "#hyperparameter tuning with keras tuner\n",
    "\n",
    "!pip install keras-tuner --upgrade"
   ]
  },
  {
   "cell_type": "code",
   "execution_count": 52,
   "id": "aa34b8b4",
   "metadata": {},
   "outputs": [],
   "source": [
    "from keras_tuner.tuners import RandomSearch"
   ]
  },
  {
   "cell_type": "code",
   "execution_count": 53,
   "id": "8f482f84",
   "metadata": {},
   "outputs": [],
   "source": [
    "def build_model(hp):\n",
    "  model=Sequential()\n",
    "  model.add(Dense(units=32,kernel_initializer = 'he_uniform',activation='relu',input_dim=170))\n",
    "  model.add(Dense(units = 32, kernel_initializer = 'he_uniform',activation='relu'))\n",
    "  model.add(Dense(1,activation='sigmoid'))\n",
    "  optimizer=hp.Choice(\"optimizer\",values=[\"adam\",\"sgd\",\"rmsprop\",\"adadelta\"])\n",
    "  model.compile(optimizer=optimizer,loss='binary_crossentropy',metrics=['accuracy'])\n",
    "  return model"
   ]
  },
  {
   "cell_type": "code",
   "execution_count": 54,
   "id": "cee4dc70",
   "metadata": {},
   "outputs": [],
   "source": [
    "tuner=RandomSearch(build_model,objective='val_accuracy',max_trials=5,directory='project1',project_name='aps-fault')"
   ]
  },
  {
   "cell_type": "code",
   "execution_count": 55,
   "id": "afa6f8d1",
   "metadata": {},
   "outputs": [
    {
     "name": "stdout",
     "output_type": "stream",
     "text": [
      "Trial 4 Complete [00h 00m 16s]\n",
      "val_accuracy: 0.9914340972900391\n",
      "\n",
      "Best val_accuracy So Far: 0.9914340972900391\n",
      "Total elapsed time: 00h 01m 03s\n",
      "INFO:tensorflow:Oracle triggered exit\n"
     ]
    }
   ],
   "source": [
    "tuner.search(x_train,y_train,validation_data=(x_test,y_test),epochs=5)"
   ]
  },
  {
   "cell_type": "code",
   "execution_count": 56,
   "id": "b78e83d9",
   "metadata": {},
   "outputs": [
    {
     "data": {
      "text/plain": [
       "{'optimizer': 'adam'}"
      ]
     },
     "execution_count": 56,
     "metadata": {},
     "output_type": "execute_result"
    }
   ],
   "source": [
    "tuner.get_best_hyperparameters()[0].values"
   ]
  },
  {
   "cell_type": "code",
   "execution_count": 57,
   "id": "4d70af4b",
   "metadata": {},
   "outputs": [],
   "source": [
    "mymodel=tuner.get_best_models(num_models=1)[0]"
   ]
  },
  {
   "cell_type": "code",
   "execution_count": 58,
   "id": "86c11c2f",
   "metadata": {},
   "outputs": [
    {
     "name": "stdout",
     "output_type": "stream",
     "text": [
      "Model: \"sequential\"\n",
      "_________________________________________________________________\n",
      " Layer (type)                Output Shape              Param #   \n",
      "=================================================================\n",
      " dense (Dense)               (None, 32)                5472      \n",
      "                                                                 \n",
      " dense_1 (Dense)             (None, 32)                1056      \n",
      "                                                                 \n",
      " dense_2 (Dense)             (None, 1)                 33        \n",
      "                                                                 \n",
      "=================================================================\n",
      "Total params: 6,561\n",
      "Trainable params: 6,561\n",
      "Non-trainable params: 0\n",
      "_________________________________________________________________\n"
     ]
    }
   ],
   "source": [
    "mymodel.summary()"
   ]
  },
  {
   "cell_type": "code",
   "execution_count": 59,
   "id": "fb3e96c0",
   "metadata": {},
   "outputs": [],
   "source": [
    "from tensorflow.keras import optimizers\n",
    "def build_model(hp):\n",
    "    model = Sequential()\n",
    "    for i in range(hp.Int('num_layers', 2, 20)):\n",
    "        model.add(Dense(units=hp.Int('units_' + str(i),\n",
    "                                            min_value=32,\n",
    "                                            max_value=512,\n",
    "                                            step=32),\n",
    "                               activation='relu'))\n",
    "    model.add(Dense(1, activation='sigmoid'))\n",
    "    model.compile(\n",
    "        optimizer=optimizers.Adam(\n",
    "            hp.Choice('learning_rate', [1e-2, 1e-3, 1e-4])),\n",
    "        loss='binary_crossentropy',\n",
    "        metrics=['accuracy'])\n",
    "    return model"
   ]
  },
  {
   "cell_type": "code",
   "execution_count": 60,
   "id": "bf6eadf1",
   "metadata": {},
   "outputs": [],
   "source": [
    "tuner_second=RandomSearch(build_model,objective='val_accuracy',max_trials=5,directory='project3',project_name='aps-fault-sensor')"
   ]
  },
  {
   "cell_type": "code",
   "execution_count": 61,
   "id": "3b82151f",
   "metadata": {},
   "outputs": [
    {
     "name": "stdout",
     "output_type": "stream",
     "text": [
      "Trial 5 Complete [00h 01m 13s]\n",
      "val_accuracy: 0.9751312732696533\n",
      "\n",
      "Best val_accuracy So Far: 0.9912959337234497\n",
      "Total elapsed time: 00h 04m 24s\n",
      "INFO:tensorflow:Oracle triggered exit\n"
     ]
    }
   ],
   "source": [
    "tuner_second.search(x_train,y_train,epochs=5,validation_data=(x_test,y_test))"
   ]
  },
  {
   "cell_type": "code",
   "execution_count": 62,
   "id": "fa7ef80b",
   "metadata": {},
   "outputs": [
    {
     "data": {
      "text/plain": [
       "{'num_layers': 16,\n",
       " 'units_0': 416,\n",
       " 'units_1': 288,\n",
       " 'learning_rate': 0.0001,\n",
       " 'units_2': 192,\n",
       " 'units_3': 128,\n",
       " 'units_4': 192,\n",
       " 'units_5': 352,\n",
       " 'units_6': 288,\n",
       " 'units_7': 480,\n",
       " 'units_8': 32,\n",
       " 'units_9': 32,\n",
       " 'units_10': 32,\n",
       " 'units_11': 32,\n",
       " 'units_12': 32,\n",
       " 'units_13': 32,\n",
       " 'units_14': 32,\n",
       " 'units_15': 32}"
      ]
     },
     "execution_count": 62,
     "metadata": {},
     "output_type": "execute_result"
    }
   ],
   "source": [
    "tuner_second.get_best_hyperparameters()[0].values"
   ]
  },
  {
   "cell_type": "code",
   "execution_count": 66,
   "id": "20e3c1ae",
   "metadata": {},
   "outputs": [],
   "source": [
    "model_2=tuner_second.get_best_models(num_models=1)[0]"
   ]
  },
  {
   "cell_type": "code",
   "execution_count": null,
   "id": "36d0af84",
   "metadata": {},
   "outputs": [],
   "source": []
  }
 ],
 "metadata": {
  "kernelspec": {
   "display_name": "Python 3 (ipykernel)",
   "language": "python",
   "name": "python3"
  },
  "language_info": {
   "codemirror_mode": {
    "name": "ipython",
    "version": 3
   },
   "file_extension": ".py",
   "mimetype": "text/x-python",
   "name": "python",
   "nbconvert_exporter": "python",
   "pygments_lexer": "ipython3",
   "version": "3.9.7"
  }
 },
 "nbformat": 4,
 "nbformat_minor": 5
}
